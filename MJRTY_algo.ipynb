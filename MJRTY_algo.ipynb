{
 "metadata": {
  "name": "",
  "signature": "sha256:60a34888abb9d6cfbb315185722a83abd1a2d555ad414f2e9456fd00d8618974"
 },
 "nbformat": 3,
 "nbformat_minor": 0,
 "worksheets": [
  {
   "cells": [
    {
     "cell_type": "markdown",
     "metadata": {},
     "source": [
      "#MJRTY - A Fast Majority Vote Algorithm\n",
      "The MJRTY algorithm sets out to solve the problem of finding the majority element in a stream (an element comprising more than 50% of the stream). Moore proposed to solve this by using only 2 pieces of information and a single scan of the data."
     ]
    },
    {
     "cell_type": "code",
     "collapsed": false,
     "input": [
      "import pandas as pd"
     ],
     "language": "python",
     "metadata": {},
     "outputs": [],
     "prompt_number": 1
    },
    {
     "cell_type": "code",
     "collapsed": false,
     "input": [
      "stream = ['A', 'C', 'C', 'C', 'B', 'A', 'C', 'A', 'A']"
     ],
     "language": "python",
     "metadata": {},
     "outputs": [],
     "prompt_number": 2
    },
    {
     "cell_type": "code",
     "collapsed": false,
     "input": [
      "history = []\n",
      "count = 0\n",
      "majority = \"\"\n",
      "\n",
      "for val in stream:\n",
      "    if count == 0:\n",
      "        majority = val\n",
      "        count = 1\n",
      "    elif val == majority:\n",
      "        count += 1\n",
      "    else:\n",
      "        count -= 1\n",
      "    history.append([val, majority, count])\n",
      "        \n",
      "print majority if count > 0 else \"no majority!\""
     ],
     "language": "python",
     "metadata": {},
     "outputs": [
      {
       "output_type": "stream",
       "stream": "stdout",
       "text": [
        "A\n"
       ]
      }
     ],
     "prompt_number": 3
    },
    {
     "cell_type": "code",
     "collapsed": false,
     "input": [
      "pd.DataFrame(history, columns=['val','majority','count'])"
     ],
     "language": "python",
     "metadata": {},
     "outputs": [
      {
       "html": [
        "<div style=\"max-height:1000px;max-width:1500px;overflow:auto;\">\n",
        "<table border=\"1\" class=\"dataframe\">\n",
        "  <thead>\n",
        "    <tr style=\"text-align: right;\">\n",
        "      <th></th>\n",
        "      <th>val</th>\n",
        "      <th>majority</th>\n",
        "      <th>count</th>\n",
        "    </tr>\n",
        "  </thead>\n",
        "  <tbody>\n",
        "    <tr>\n",
        "      <th>0</th>\n",
        "      <td> A</td>\n",
        "      <td> A</td>\n",
        "      <td> 1</td>\n",
        "    </tr>\n",
        "    <tr>\n",
        "      <th>1</th>\n",
        "      <td> C</td>\n",
        "      <td> A</td>\n",
        "      <td> 0</td>\n",
        "    </tr>\n",
        "    <tr>\n",
        "      <th>2</th>\n",
        "      <td> C</td>\n",
        "      <td> C</td>\n",
        "      <td> 1</td>\n",
        "    </tr>\n",
        "    <tr>\n",
        "      <th>3</th>\n",
        "      <td> C</td>\n",
        "      <td> C</td>\n",
        "      <td> 2</td>\n",
        "    </tr>\n",
        "    <tr>\n",
        "      <th>4</th>\n",
        "      <td> B</td>\n",
        "      <td> C</td>\n",
        "      <td> 1</td>\n",
        "    </tr>\n",
        "    <tr>\n",
        "      <th>5</th>\n",
        "      <td> A</td>\n",
        "      <td> C</td>\n",
        "      <td> 0</td>\n",
        "    </tr>\n",
        "    <tr>\n",
        "      <th>6</th>\n",
        "      <td> C</td>\n",
        "      <td> C</td>\n",
        "      <td> 1</td>\n",
        "    </tr>\n",
        "    <tr>\n",
        "      <th>7</th>\n",
        "      <td> A</td>\n",
        "      <td> C</td>\n",
        "      <td> 0</td>\n",
        "    </tr>\n",
        "    <tr>\n",
        "      <th>8</th>\n",
        "      <td> A</td>\n",
        "      <td> A</td>\n",
        "      <td> 1</td>\n",
        "    </tr>\n",
        "  </tbody>\n",
        "</table>\n",
        "</div>"
       ],
       "metadata": {},
       "output_type": "pyout",
       "prompt_number": 4,
       "text": [
        "  val majority  count\n",
        "0   A        A      1\n",
        "1   C        A      0\n",
        "2   C        C      1\n",
        "3   C        C      2\n",
        "4   B        C      1\n",
        "5   A        C      0\n",
        "6   C        C      1\n",
        "7   A        C      0\n",
        "8   A        A      1"
       ]
      }
     ],
     "prompt_number": 4
    },
    {
     "cell_type": "markdown",
     "metadata": {},
     "source": [
      "##Referense\n",
      "1. http://www.cs.utexas.edu/~moore/best-ideas/mjrty/\n",
      "2. http://blogs.law.harvard.edu/pamphlet/2011/09/23/tales-of-peer-review-episode-1-boyer-and-moores-mjrty-algorithm/"
     ]
    }
   ],
   "metadata": {}
  }
 ]
}
